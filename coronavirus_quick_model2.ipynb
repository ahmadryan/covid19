{
  "nbformat": 4,
  "nbformat_minor": 0,
  "metadata": {
    "colab": {
      "name": "coronavirus_quick_model2.ipynb",
      "provenance": [],
      "collapsed_sections": [],
      "authorship_tag": "ABX9TyPQyBCxf7443H3vSETSdip7",
      "include_colab_link": true
    },
    "kernelspec": {
      "name": "python3",
      "display_name": "Python 3"
    }
  },
  "cells": [
    {
      "cell_type": "markdown",
      "metadata": {
        "id": "view-in-github",
        "colab_type": "text"
      },
      "source": [
        "<a href=\"https://colab.research.google.com/github/ahmadryan/covid19/blob/master/coronavirus_quick_model2.ipynb\" target=\"_parent\"><img src=\"https://colab.research.google.com/assets/colab-badge.svg\" alt=\"Open In Colab\"/></a>"
      ]
    },
    {
      "cell_type": "code",
      "metadata": {
        "id": "3-_J4qR0wTte",
        "colab_type": "code",
        "colab": {}
      },
      "source": [
        "#!pip install geopandas\n",
        "#!pip install shapely"
      ],
      "execution_count": 0,
      "outputs": []
    },
    {
      "cell_type": "code",
      "metadata": {
        "id": "mkkp1yxNwgld",
        "colab_type": "code",
        "outputId": "6848b538-246c-41ff-e133-64a98d106e3c",
        "colab": {
          "base_uri": "https://localhost:8080/",
          "height": 34
        }
      },
      "source": [
        "import pandas as pd\n",
        "import pylab as pl\n",
        "#import geopandas as gpd\n",
        "#import shapely\n",
        "import json\n",
        "import matplotlib as mpl\n",
        "from numpy import *\n",
        "%pylab inline"
      ],
      "execution_count": 42,
      "outputs": [
        {
          "output_type": "stream",
          "text": [
            "Populating the interactive namespace from numpy and matplotlib\n"
          ],
          "name": "stdout"
        }
      ]
    },
    {
      "cell_type": "code",
      "metadata": {
        "id": "vhcmsCmEwsRH",
        "colab_type": "code",
        "colab": {}
      },
      "source": [
        "#remove warnings\n",
        "if not sys.warnoptions:\n",
        "    import warnings\n",
        "    warnings.simplefilter(\"ignore\")"
      ],
      "execution_count": 0,
      "outputs": []
    },
    {
      "cell_type": "code",
      "metadata": {
        "id": "HrMriLQ1wvkg",
        "colab_type": "code",
        "colab": {}
      },
      "source": [
        "# most of the data I grab from online links \n",
        "# but the shapefiles downloaded and saved on data/\n",
        "# the last part of the analysis uses worldbank data \n",
        "# which I also downloaded and saved on data/ - that could be changed\n",
        "#from google.colab import drive\n",
        "\n",
        "#drive.mount(\"/content/gdrive\")"
      ],
      "execution_count": 0,
      "outputs": []
    },
    {
      "cell_type": "code",
      "metadata": {
        "id": "PD-5MXiuwzGr",
        "colab_type": "code",
        "colab": {}
      },
      "source": [
        "#cd gdrive/My\\ Drive"
      ],
      "execution_count": 0,
      "outputs": []
    },
    {
      "cell_type": "code",
      "metadata": {
        "id": "zJazfFqNw1FL",
        "colab_type": "code",
        "colab": {}
      },
      "source": [
        "#cd cv19/covid_data/"
      ],
      "execution_count": 0,
      "outputs": []
    },
    {
      "cell_type": "code",
      "metadata": {
        "id": "LnMvW1mKwlSr",
        "colab_type": "code",
        "outputId": "ba2d2ccb-c353-42cc-b99b-5fceb4e9e5bf",
        "colab": {
          "base_uri": "https://localhost:8080/",
          "height": 51
        }
      },
      "source": [
        "%%time\n",
        "# Read the data from html file which is updated every 5 minutes\n",
        "\n",
        "india_data = pd.read_html('https://docs.google.com/spreadsheets/d/e/2PACX-1vSc_2y5N0I67wDU38DjDh35IZSIS30rQf7_NYZhtYYGU1jJYT6_kDx4YpF-qw0LSlGsBYP8pqM_a1Pd/pubhtml')"
      ],
      "execution_count": 47,
      "outputs": [
        {
          "output_type": "stream",
          "text": [
            "CPU times: user 1min 18s, sys: 56.4 ms, total: 1min 18s\n",
            "Wall time: 1min 22s\n"
          ],
          "name": "stdout"
        }
      ]
    },
    {
      "cell_type": "code",
      "metadata": {
        "id": "SSoi7aOZyBx8",
        "colab_type": "code",
        "outputId": "d9517db7-7349-42d1-909c-471b17d0b42b",
        "colab": {
          "base_uri": "https://localhost:8080/",
          "height": 204
        }
      },
      "source": [
        "india_data[1].head()"
      ],
      "execution_count": 48,
      "outputs": [
        {
          "output_type": "execute_result",
          "data": {
            "text/html": [
              "<div>\n",
              "<style scoped>\n",
              "    .dataframe tbody tr th:only-of-type {\n",
              "        vertical-align: middle;\n",
              "    }\n",
              "\n",
              "    .dataframe tbody tr th {\n",
              "        vertical-align: top;\n",
              "    }\n",
              "\n",
              "    .dataframe thead th {\n",
              "        text-align: right;\n",
              "    }\n",
              "</style>\n",
              "<table border=\"1\" class=\"dataframe\">\n",
              "  <thead>\n",
              "    <tr style=\"text-align: right;\">\n",
              "      <th></th>\n",
              "      <th>Unnamed: 0</th>\n",
              "      <th>Unnamed: 1</th>\n",
              "      <th>Unnamed: 2</th>\n",
              "      <th>Unnamed: 3</th>\n",
              "      <th>Unnamed: 4</th>\n",
              "      <th>Unnamed: 5</th>\n",
              "      <th>Unnamed: 6</th>\n",
              "      <th>Unnamed: 7</th>\n",
              "    </tr>\n",
              "  </thead>\n",
              "  <tbody>\n",
              "    <tr>\n",
              "      <th>0</th>\n",
              "      <td>1.0</td>\n",
              "      <td>State</td>\n",
              "      <td>NaN</td>\n",
              "      <td>Confirmed</td>\n",
              "      <td>Recovered</td>\n",
              "      <td>Deaths</td>\n",
              "      <td>Active</td>\n",
              "      <td>Last_Updated_Time</td>\n",
              "    </tr>\n",
              "    <tr>\n",
              "      <th>1</th>\n",
              "      <td>2.0</td>\n",
              "      <td>Total</td>\n",
              "      <td>NaN</td>\n",
              "      <td>1347</td>\n",
              "      <td>137</td>\n",
              "      <td>43</td>\n",
              "      <td>1167</td>\n",
              "      <td>31/03/2020 00:22:24</td>\n",
              "    </tr>\n",
              "    <tr>\n",
              "      <th>2</th>\n",
              "      <td>NaN</td>\n",
              "      <td>NaN</td>\n",
              "      <td>NaN</td>\n",
              "      <td>NaN</td>\n",
              "      <td>NaN</td>\n",
              "      <td>NaN</td>\n",
              "      <td>NaN</td>\n",
              "      <td>NaN</td>\n",
              "    </tr>\n",
              "    <tr>\n",
              "      <th>3</th>\n",
              "      <td>3.0</td>\n",
              "      <td>Maharashtra</td>\n",
              "      <td>NaN</td>\n",
              "      <td>238</td>\n",
              "      <td>39</td>\n",
              "      <td>10</td>\n",
              "      <td>189</td>\n",
              "      <td>31/03/2020 00:22:25</td>\n",
              "    </tr>\n",
              "    <tr>\n",
              "      <th>4</th>\n",
              "      <td>4.0</td>\n",
              "      <td>Kerala</td>\n",
              "      <td>NaN</td>\n",
              "      <td>234</td>\n",
              "      <td>20</td>\n",
              "      <td>1</td>\n",
              "      <td>213</td>\n",
              "      <td>30/03/2020 18:59:17</td>\n",
              "    </tr>\n",
              "  </tbody>\n",
              "</table>\n",
              "</div>"
            ],
            "text/plain": [
              "   Unnamed: 0   Unnamed: 1  ...  Unnamed: 6           Unnamed: 7\n",
              "0         1.0        State  ...      Active    Last_Updated_Time\n",
              "1         2.0        Total  ...        1167  31/03/2020 00:22:24\n",
              "2         NaN          NaN  ...         NaN                  NaN\n",
              "3         3.0  Maharashtra  ...         189  31/03/2020 00:22:25\n",
              "4         4.0       Kerala  ...         213  30/03/2020 18:59:17\n",
              "\n",
              "[5 rows x 8 columns]"
            ]
          },
          "metadata": {
            "tags": []
          },
          "execution_count": 48
        }
      ]
    },
    {
      "cell_type": "code",
      "metadata": {
        "id": "3P1A_KZdSGXw",
        "colab_type": "code",
        "outputId": "ad673533-f8de-4902-c429-5fbeb6a99837",
        "colab": {
          "base_uri": "https://localhost:8080/",
          "height": 204
        }
      },
      "source": [
        "# Data from the whole country\n",
        "\n",
        "index = 0\n",
        "dates = india_data[index]['Unnamed: 3'][2:].values\n",
        "dates = pd.to_datetime(dates, dayfirst=True)\n",
        "idx = where( ~isnan(dates ))[0]\n",
        "\n",
        "df = pd.DataFrame( index=dates[idx])\n",
        "\n",
        "df['patient_number'] = india_data[index]['Unnamed: 1'][2:idx[-1]+3].values\n",
        "df['age'] = india_data[index]['Unnamed: 4'][2:idx[-1]+3].values\n",
        "df['gender'] = india_data[index]['Unnamed: 5'][2:idx[-1]+3].values\n",
        "df['city'] = india_data[index]['Unnamed: 6'][2:idx[-1]+3].values\n",
        "df['district'] = india_data[index]['Unnamed: 7'][2:idx[-1]+3].values\n",
        "df['state'] = india_data[index]['Unnamed: 8'][2:idx[-1]+3].values\n",
        "df['status'] = india_data[index]['Unnamed: 9'][2:idx[-1]+3].values\n",
        "df.head()"
      ],
      "execution_count": 49,
      "outputs": [
        {
          "output_type": "execute_result",
          "data": {
            "text/html": [
              "<div>\n",
              "<style scoped>\n",
              "    .dataframe tbody tr th:only-of-type {\n",
              "        vertical-align: middle;\n",
              "    }\n",
              "\n",
              "    .dataframe tbody tr th {\n",
              "        vertical-align: top;\n",
              "    }\n",
              "\n",
              "    .dataframe thead th {\n",
              "        text-align: right;\n",
              "    }\n",
              "</style>\n",
              "<table border=\"1\" class=\"dataframe\">\n",
              "  <thead>\n",
              "    <tr style=\"text-align: right;\">\n",
              "      <th></th>\n",
              "      <th>patient_number</th>\n",
              "      <th>age</th>\n",
              "      <th>gender</th>\n",
              "      <th>city</th>\n",
              "      <th>district</th>\n",
              "      <th>state</th>\n",
              "      <th>status</th>\n",
              "    </tr>\n",
              "  </thead>\n",
              "  <tbody>\n",
              "    <tr>\n",
              "      <th>2020-01-30</th>\n",
              "      <td>1</td>\n",
              "      <td>20</td>\n",
              "      <td>F</td>\n",
              "      <td>Thrissur</td>\n",
              "      <td>Thrissur</td>\n",
              "      <td>Kerala</td>\n",
              "      <td>Recovered</td>\n",
              "    </tr>\n",
              "    <tr>\n",
              "      <th>2020-02-02</th>\n",
              "      <td>2</td>\n",
              "      <td>NaN</td>\n",
              "      <td>NaN</td>\n",
              "      <td>Alappuzha</td>\n",
              "      <td>Alappuzha</td>\n",
              "      <td>Kerala</td>\n",
              "      <td>Recovered</td>\n",
              "    </tr>\n",
              "    <tr>\n",
              "      <th>2020-02-03</th>\n",
              "      <td>3</td>\n",
              "      <td>NaN</td>\n",
              "      <td>NaN</td>\n",
              "      <td>Kasaragod</td>\n",
              "      <td>Kasaragod</td>\n",
              "      <td>Kerala</td>\n",
              "      <td>Recovered</td>\n",
              "    </tr>\n",
              "    <tr>\n",
              "      <th>2020-03-02</th>\n",
              "      <td>4</td>\n",
              "      <td>45</td>\n",
              "      <td>M</td>\n",
              "      <td>East Delhi (Mayur Vihar)</td>\n",
              "      <td>East Delhi</td>\n",
              "      <td>Delhi</td>\n",
              "      <td>Recovered</td>\n",
              "    </tr>\n",
              "    <tr>\n",
              "      <th>2020-03-02</th>\n",
              "      <td>5</td>\n",
              "      <td>24</td>\n",
              "      <td>M</td>\n",
              "      <td>Hyderabad</td>\n",
              "      <td>Hyderabad</td>\n",
              "      <td>Telangana</td>\n",
              "      <td>Recovered</td>\n",
              "    </tr>\n",
              "  </tbody>\n",
              "</table>\n",
              "</div>"
            ],
            "text/plain": [
              "           patient_number  age gender  ...    district      state     status\n",
              "2020-01-30              1   20      F  ...    Thrissur     Kerala  Recovered\n",
              "2020-02-02              2  NaN    NaN  ...   Alappuzha     Kerala  Recovered\n",
              "2020-02-03              3  NaN    NaN  ...   Kasaragod     Kerala  Recovered\n",
              "2020-03-02              4   45      M  ...  East Delhi      Delhi  Recovered\n",
              "2020-03-02              5   24      M  ...   Hyderabad  Telangana  Recovered\n",
              "\n",
              "[5 rows x 7 columns]"
            ]
          },
          "metadata": {
            "tags": []
          },
          "execution_count": 49
        }
      ]
    },
    {
      "cell_type": "code",
      "metadata": {
        "id": "Y6NmpkNxV6u0",
        "colab_type": "code",
        "outputId": "66c31014-35da-450b-db1e-9517992bfc00",
        "colab": {
          "base_uri": "https://localhost:8080/",
          "height": 173
        }
      },
      "source": [
        "df.describe()"
      ],
      "execution_count": 50,
      "outputs": [
        {
          "output_type": "execute_result",
          "data": {
            "text/html": [
              "<div>\n",
              "<style scoped>\n",
              "    .dataframe tbody tr th:only-of-type {\n",
              "        vertical-align: middle;\n",
              "    }\n",
              "\n",
              "    .dataframe tbody tr th {\n",
              "        vertical-align: top;\n",
              "    }\n",
              "\n",
              "    .dataframe thead th {\n",
              "        text-align: right;\n",
              "    }\n",
              "</style>\n",
              "<table border=\"1\" class=\"dataframe\">\n",
              "  <thead>\n",
              "    <tr style=\"text-align: right;\">\n",
              "      <th></th>\n",
              "      <th>patient_number</th>\n",
              "      <th>age</th>\n",
              "      <th>gender</th>\n",
              "      <th>city</th>\n",
              "      <th>district</th>\n",
              "      <th>state</th>\n",
              "      <th>status</th>\n",
              "    </tr>\n",
              "  </thead>\n",
              "  <tbody>\n",
              "    <tr>\n",
              "      <th>count</th>\n",
              "      <td>1347</td>\n",
              "      <td>545</td>\n",
              "      <td>586</td>\n",
              "      <td>671</td>\n",
              "      <td>1104</td>\n",
              "      <td>1347</td>\n",
              "      <td>1347</td>\n",
              "    </tr>\n",
              "    <tr>\n",
              "      <th>unique</th>\n",
              "      <td>1347</td>\n",
              "      <td>77</td>\n",
              "      <td>2</td>\n",
              "      <td>188</td>\n",
              "      <td>161</td>\n",
              "      <td>27</td>\n",
              "      <td>4</td>\n",
              "    </tr>\n",
              "    <tr>\n",
              "      <th>top</th>\n",
              "      <td>447</td>\n",
              "      <td>21</td>\n",
              "      <td>M</td>\n",
              "      <td>Mumbai</td>\n",
              "      <td>Kasaragod</td>\n",
              "      <td>Maharashtra</td>\n",
              "      <td>Hospitalized</td>\n",
              "    </tr>\n",
              "    <tr>\n",
              "      <th>freq</th>\n",
              "      <td>1</td>\n",
              "      <td>26</td>\n",
              "      <td>396</td>\n",
              "      <td>67</td>\n",
              "      <td>107</td>\n",
              "      <td>238</td>\n",
              "      <td>1274</td>\n",
              "    </tr>\n",
              "  </tbody>\n",
              "</table>\n",
              "</div>"
            ],
            "text/plain": [
              "       patient_number  age gender    city   district        state        status\n",
              "count            1347  545    586     671       1104         1347          1347\n",
              "unique           1347   77      2     188        161           27             4\n",
              "top               447   21      M  Mumbai  Kasaragod  Maharashtra  Hospitalized\n",
              "freq                1   26    396      67        107          238          1274"
            ]
          },
          "metadata": {
            "tags": []
          },
          "execution_count": 50
        }
      ]
    },
    {
      "cell_type": "code",
      "metadata": {
        "id": "8dgdEFXVW7yo",
        "colab_type": "code",
        "outputId": "81fc5839-5006-4dfa-e5be-518cffdd3c8c",
        "colab": {
          "base_uri": "https://localhost:8080/",
          "height": 68
        }
      },
      "source": [
        "df.columns"
      ],
      "execution_count": 51,
      "outputs": [
        {
          "output_type": "execute_result",
          "data": {
            "text/plain": [
              "Index(['patient_number', 'age', 'gender', 'city', 'district', 'state',\n",
              "       'status'],\n",
              "      dtype='object')"
            ]
          },
          "metadata": {
            "tags": []
          },
          "execution_count": 51
        }
      ]
    },
    {
      "cell_type": "code",
      "metadata": {
        "id": "ETjgnUPVTUsF",
        "colab_type": "code",
        "colab": {}
      },
      "source": [
        "dfn = df[df.state=='Maharashtra']"
      ],
      "execution_count": 0,
      "outputs": []
    },
    {
      "cell_type": "code",
      "metadata": {
        "id": "ncEUCgfUURps",
        "colab_type": "code",
        "outputId": "77e22f1f-0c95-4f8e-fb51-fe2916a2332f",
        "colab": {
          "base_uri": "https://localhost:8080/",
          "height": 111
        }
      },
      "source": [
        "dfn[dfn.status=='Deceased']"
      ],
      "execution_count": 53,
      "outputs": [
        {
          "output_type": "execute_result",
          "data": {
            "text/html": [
              "<div>\n",
              "<style scoped>\n",
              "    .dataframe tbody tr th:only-of-type {\n",
              "        vertical-align: middle;\n",
              "    }\n",
              "\n",
              "    .dataframe tbody tr th {\n",
              "        vertical-align: top;\n",
              "    }\n",
              "\n",
              "    .dataframe thead th {\n",
              "        text-align: right;\n",
              "    }\n",
              "</style>\n",
              "<table border=\"1\" class=\"dataframe\">\n",
              "  <thead>\n",
              "    <tr style=\"text-align: right;\">\n",
              "      <th></th>\n",
              "      <th>patient_number</th>\n",
              "      <th>age</th>\n",
              "      <th>gender</th>\n",
              "      <th>city</th>\n",
              "      <th>district</th>\n",
              "      <th>state</th>\n",
              "      <th>status</th>\n",
              "    </tr>\n",
              "  </thead>\n",
              "  <tbody>\n",
              "    <tr>\n",
              "      <th>2020-03-12</th>\n",
              "      <td>77</td>\n",
              "      <td>65</td>\n",
              "      <td>M</td>\n",
              "      <td>Mumbai</td>\n",
              "      <td>Mumbai</td>\n",
              "      <td>Maharashtra</td>\n",
              "      <td>Deceased</td>\n",
              "    </tr>\n",
              "    <tr>\n",
              "      <th>2020-03-21</th>\n",
              "      <td>270</td>\n",
              "      <td>63</td>\n",
              "      <td>M</td>\n",
              "      <td>Mumbai</td>\n",
              "      <td>Mumbai</td>\n",
              "      <td>Maharashtra</td>\n",
              "      <td>Deceased</td>\n",
              "    </tr>\n",
              "  </tbody>\n",
              "</table>\n",
              "</div>"
            ],
            "text/plain": [
              "           patient_number age gender    city district        state    status\n",
              "2020-03-12             77  65      M  Mumbai   Mumbai  Maharashtra  Deceased\n",
              "2020-03-21            270  63      M  Mumbai   Mumbai  Maharashtra  Deceased"
            ]
          },
          "metadata": {
            "tags": []
          },
          "execution_count": 53
        }
      ]
    },
    {
      "cell_type": "code",
      "metadata": {
        "id": "pxiCwxDVTbQt",
        "colab_type": "code",
        "outputId": "3f06351a-bbee-49d8-bca6-01cac8ea3b75",
        "colab": {
          "base_uri": "https://localhost:8080/",
          "height": 592
        }
      },
      "source": [
        "plt.figure(figsize=(10, 10))\n",
        "plt.plot( dfn.index, dfn.patient_number, 'r.', ms=5, ls='--', lw=2)\n",
        "plt.plot( dfn[dfn.status=='Deceased'].index, dfn[dfn.status=='Deceased'].patient_number, 'b.', ms=25, ls=None)\n",
        "plt.yscale('linear')"
      ],
      "execution_count": 54,
      "outputs": [
        {
          "output_type": "display_data",
          "data": {
            "image/png": "[encoded data removed]",
            "text/plain": [
              "<Figure size 720x720 with 1 Axes>"
            ]
          },
          "metadata": {
            "tags": []
          }
        }
      ]
    },
    {
      "cell_type": "code",
      "metadata": {
        "id": "CNvEzGcX-pWD",
        "colab_type": "code",
        "outputId": "34f04a20-480e-404e-9751-f040c44e5bf5",
        "colab": {
          "base_uri": "https://localhost:8080/",
          "height": 204
        }
      },
      "source": [
        "# Statewise data\n",
        "\n",
        "df_sw = pd.DataFrame( )\n",
        "ind = 1\n",
        "df_sw['states'] = india_data[ind]['Unnamed: 1'][3:].values\n",
        "df_sw['confirmed'] = india_data[ind]['Unnamed: 3'][3:].values\n",
        "df_sw['recovered'] = india_data[ind]['Unnamed: 4'][3:].values\n",
        "df_sw['death'] = india_data[ind]['Unnamed: 5'][3:].values\n",
        "df_sw['active'] = india_data[ind]['Unnamed: 6'][3:].values\n",
        "\n",
        "for col in df_sw.columns[1:] :\n",
        "    df_sw[col] = df_sw[col].astype(float)\n",
        "\n",
        "df_sw.head()"
      ],
      "execution_count": 55,
      "outputs": [
        {
          "output_type": "execute_result",
          "data": {
            "text/html": [
              "<div>\n",
              "<style scoped>\n",
              "    .dataframe tbody tr th:only-of-type {\n",
              "        vertical-align: middle;\n",
              "    }\n",
              "\n",
              "    .dataframe tbody tr th {\n",
              "        vertical-align: top;\n",
              "    }\n",
              "\n",
              "    .dataframe thead th {\n",
              "        text-align: right;\n",
              "    }\n",
              "</style>\n",
              "<table border=\"1\" class=\"dataframe\">\n",
              "  <thead>\n",
              "    <tr style=\"text-align: right;\">\n",
              "      <th></th>\n",
              "      <th>states</th>\n",
              "      <th>confirmed</th>\n",
              "      <th>recovered</th>\n",
              "      <th>death</th>\n",
              "      <th>active</th>\n",
              "    </tr>\n",
              "  </thead>\n",
              "  <tbody>\n",
              "    <tr>\n",
              "      <th>0</th>\n",
              "      <td>Maharashtra</td>\n",
              "      <td>238.0</td>\n",
              "      <td>39.0</td>\n",
              "      <td>10.0</td>\n",
              "      <td>189.0</td>\n",
              "    </tr>\n",
              "    <tr>\n",
              "      <th>1</th>\n",
              "      <td>Kerala</td>\n",
              "      <td>234.0</td>\n",
              "      <td>20.0</td>\n",
              "      <td>1.0</td>\n",
              "      <td>213.0</td>\n",
              "    </tr>\n",
              "    <tr>\n",
              "      <th>2</th>\n",
              "      <td>Karnataka</td>\n",
              "      <td>91.0</td>\n",
              "      <td>5.0</td>\n",
              "      <td>3.0</td>\n",
              "      <td>83.0</td>\n",
              "    </tr>\n",
              "    <tr>\n",
              "      <th>3</th>\n",
              "      <td>Delhi</td>\n",
              "      <td>97.0</td>\n",
              "      <td>6.0</td>\n",
              "      <td>2.0</td>\n",
              "      <td>89.0</td>\n",
              "    </tr>\n",
              "    <tr>\n",
              "      <th>4</th>\n",
              "      <td>Uttar Pradesh</td>\n",
              "      <td>96.0</td>\n",
              "      <td>17.0</td>\n",
              "      <td>0.0</td>\n",
              "      <td>79.0</td>\n",
              "    </tr>\n",
              "  </tbody>\n",
              "</table>\n",
              "</div>"
            ],
            "text/plain": [
              "          states  confirmed  recovered  death  active\n",
              "0    Maharashtra      238.0       39.0   10.0   189.0\n",
              "1         Kerala      234.0       20.0    1.0   213.0\n",
              "2      Karnataka       91.0        5.0    3.0    83.0\n",
              "3          Delhi       97.0        6.0    2.0    89.0\n",
              "4  Uttar Pradesh       96.0       17.0    0.0    79.0"
            ]
          },
          "metadata": {
            "tags": []
          },
          "execution_count": 55
        }
      ]
    },
    {
      "cell_type": "code",
      "metadata": {
        "id": "MWOR5zKUT9P6",
        "colab_type": "code",
        "outputId": "7bb6f0f5-84aa-4d0b-c49e-b1b2fda13a90",
        "colab": {
          "base_uri": "https://localhost:8080/",
          "height": 204
        }
      },
      "source": [
        "# Data related to total tests in the country\n",
        "\n",
        "index = 4\n",
        "dates = india_data[index]['Unnamed: 1'][1:].values\n",
        "dates = pd.to_datetime(dates, dayfirst=True)\n",
        "\n",
        "df_tt = pd.DataFrame(index=dates)\n",
        "\n",
        "df_tt['n_samples'] = india_data[index]['Unnamed: 2'][1:].values\n",
        "df_tt['n_individual'] = india_data[index]['Unnamed: 3'][1:].values\n",
        "df_tt['n_positive'] = india_data[index]['Unnamed: 4'][1:].values\n",
        "\n",
        "df_tt.dropna(inplace=True)\n",
        "\n",
        "for col in df_tt.columns :\n",
        "    df_tt[col] = df_tt[col].astype(float)\n",
        "\n",
        "df_tt.tail()"
      ],
      "execution_count": 69,
      "outputs": [
        {
          "output_type": "execute_result",
          "data": {
            "text/html": [
              "<div>\n",
              "<style scoped>\n",
              "    .dataframe tbody tr th:only-of-type {\n",
              "        vertical-align: middle;\n",
              "    }\n",
              "\n",
              "    .dataframe tbody tr th {\n",
              "        vertical-align: top;\n",
              "    }\n",
              "\n",
              "    .dataframe thead th {\n",
              "        text-align: right;\n",
              "    }\n",
              "</style>\n",
              "<table border=\"1\" class=\"dataframe\">\n",
              "  <thead>\n",
              "    <tr style=\"text-align: right;\">\n",
              "      <th></th>\n",
              "      <th>n_samples</th>\n",
              "      <th>n_individual</th>\n",
              "      <th>n_positive</th>\n",
              "    </tr>\n",
              "  </thead>\n",
              "  <tbody>\n",
              "    <tr>\n",
              "      <th>2020-03-24 10:00:00</th>\n",
              "      <td>20864.0</td>\n",
              "      <td>19974.0</td>\n",
              "      <td>482.0</td>\n",
              "    </tr>\n",
              "    <tr>\n",
              "      <th>2020-03-24 20:00:00</th>\n",
              "      <td>22694.0</td>\n",
              "      <td>21804.0</td>\n",
              "      <td>536.0</td>\n",
              "    </tr>\n",
              "    <tr>\n",
              "      <th>2020-03-25 10:00:00</th>\n",
              "      <td>22928.0</td>\n",
              "      <td>22038.0</td>\n",
              "      <td>539.0</td>\n",
              "    </tr>\n",
              "    <tr>\n",
              "      <th>2020-03-25 20:00:00</th>\n",
              "      <td>25144.0</td>\n",
              "      <td>24254.0</td>\n",
              "      <td>581.0</td>\n",
              "    </tr>\n",
              "    <tr>\n",
              "      <th>2020-03-27 09:00:00</th>\n",
              "      <td>27688.0</td>\n",
              "      <td>26798.0</td>\n",
              "      <td>691.0</td>\n",
              "    </tr>\n",
              "  </tbody>\n",
              "</table>\n",
              "</div>"
            ],
            "text/plain": [
              "                     n_samples  n_individual  n_positive\n",
              "2020-03-24 10:00:00    20864.0       19974.0       482.0\n",
              "2020-03-24 20:00:00    22694.0       21804.0       536.0\n",
              "2020-03-25 10:00:00    22928.0       22038.0       539.0\n",
              "2020-03-25 20:00:00    25144.0       24254.0       581.0\n",
              "2020-03-27 09:00:00    27688.0       26798.0       691.0"
            ]
          },
          "metadata": {
            "tags": []
          },
          "execution_count": 69
        }
      ]
    },
    {
      "cell_type": "code",
      "metadata": {
        "id": "EgZ5TwFJV-ES",
        "colab_type": "code",
        "outputId": "38188399-bf36-490d-859a-a6e8e674d460",
        "colab": {
          "base_uri": "https://localhost:8080/",
          "height": 204
        }
      },
      "source": [
        "# Time series of the data\n",
        "\n",
        "import datetime\n",
        "\n",
        "ind = 3\n",
        "india_data[ind].dropna( inplace=True )\n",
        "first_date = datetime.datetime(year=2020, month=1, day=30).date()\n",
        "dates = pd.date_range(first_date, periods=len(india_data[ind]['Unnamed: 1'])-1, freq='D')\n",
        "\n",
        "df_ts = pd.DataFrame(index=dates)\n",
        "df_ts['daily_confirmed'] = india_data[ind]['Unnamed: 2'][1:].values\n",
        "df_ts['total_confirmed'] = india_data[ind]['Unnamed: 3'][1:].values\n",
        "df_ts['daily_recovered'] = india_data[ind]['Unnamed: 4'][1:].values\n",
        "df_ts['total_recovered'] = india_data[ind]['Unnamed: 5'][1:].values\n",
        "df_ts['daily_deaths'] = india_data[ind]['Unnamed: 6'][1:].values\n",
        "df_ts['total_deaths'] = india_data[ind]['Unnamed: 7'][1:].values\n",
        "\n",
        "for col in df_ts.columns :\n",
        "    try :\n",
        "\n",
        "        df_ts[col] = df_ts[col].astype(float)\n",
        "    except :\n",
        "        pass\n",
        "\n",
        "df_ts.head()"
      ],
      "execution_count": 57,
      "outputs": [
        {
          "output_type": "execute_result",
          "data": {
            "text/html": [
              "<div>\n",
              "<style scoped>\n",
              "    .dataframe tbody tr th:only-of-type {\n",
              "        vertical-align: middle;\n",
              "    }\n",
              "\n",
              "    .dataframe tbody tr th {\n",
              "        vertical-align: top;\n",
              "    }\n",
              "\n",
              "    .dataframe thead th {\n",
              "        text-align: right;\n",
              "    }\n",
              "</style>\n",
              "<table border=\"1\" class=\"dataframe\">\n",
              "  <thead>\n",
              "    <tr style=\"text-align: right;\">\n",
              "      <th></th>\n",
              "      <th>daily_confirmed</th>\n",
              "      <th>total_confirmed</th>\n",
              "      <th>daily_recovered</th>\n",
              "      <th>total_recovered</th>\n",
              "      <th>daily_deaths</th>\n",
              "      <th>total_deaths</th>\n",
              "    </tr>\n",
              "  </thead>\n",
              "  <tbody>\n",
              "    <tr>\n",
              "      <th>2020-01-30</th>\n",
              "      <td>1.0</td>\n",
              "      <td>1.0</td>\n",
              "      <td>0.0</td>\n",
              "      <td>0.0</td>\n",
              "      <td>0.0</td>\n",
              "      <td>0.0</td>\n",
              "    </tr>\n",
              "    <tr>\n",
              "      <th>2020-01-31</th>\n",
              "      <td>0.0</td>\n",
              "      <td>1.0</td>\n",
              "      <td>0.0</td>\n",
              "      <td>0.0</td>\n",
              "      <td>0.0</td>\n",
              "      <td>0.0</td>\n",
              "    </tr>\n",
              "    <tr>\n",
              "      <th>2020-02-01</th>\n",
              "      <td>0.0</td>\n",
              "      <td>1.0</td>\n",
              "      <td>0.0</td>\n",
              "      <td>0.0</td>\n",
              "      <td>0.0</td>\n",
              "      <td>0.0</td>\n",
              "    </tr>\n",
              "    <tr>\n",
              "      <th>2020-02-02</th>\n",
              "      <td>1.0</td>\n",
              "      <td>2.0</td>\n",
              "      <td>0.0</td>\n",
              "      <td>0.0</td>\n",
              "      <td>0.0</td>\n",
              "      <td>0.0</td>\n",
              "    </tr>\n",
              "    <tr>\n",
              "      <th>2020-02-03</th>\n",
              "      <td>1.0</td>\n",
              "      <td>3.0</td>\n",
              "      <td>0.0</td>\n",
              "      <td>0.0</td>\n",
              "      <td>0.0</td>\n",
              "      <td>0.0</td>\n",
              "    </tr>\n",
              "  </tbody>\n",
              "</table>\n",
              "</div>"
            ],
            "text/plain": [
              "            daily_confirmed  total_confirmed  ...  daily_deaths  total_deaths\n",
              "2020-01-30              1.0              1.0  ...           0.0           0.0\n",
              "2020-01-31              0.0              1.0  ...           0.0           0.0\n",
              "2020-02-01              0.0              1.0  ...           0.0           0.0\n",
              "2020-02-02              1.0              2.0  ...           0.0           0.0\n",
              "2020-02-03              1.0              3.0  ...           0.0           0.0\n",
              "\n",
              "[5 rows x 6 columns]"
            ]
          },
          "metadata": {
            "tags": []
          },
          "execution_count": 57
        }
      ]
    },
    {
      "cell_type": "code",
      "metadata": {
        "id": "q8uQEJIJwhdE",
        "colab_type": "code",
        "outputId": "8e28f41d-0239-4de0-b924-ccd3ae0a5c99",
        "colab": {
          "base_uri": "https://localhost:8080/",
          "height": 204
        }
      },
      "source": [
        "# Statewise tests\n",
        "\n",
        "df_swt = pd.DataFrame( )\n",
        "ind = 6\n",
        "df_swt['states'] = india_data[ind]['Unnamed: 1'][3:].values\n",
        "df_swt['total_tests'] = india_data[ind]['Unnamed: 2'][3:].values\n",
        "df_swt['total_positive'] = india_data[ind]['Unnamed: 3'][3:].values\n",
        "df_swt['total_negative'] = india_data[ind]['Unnamed: 4'][3:].values\n",
        "df_swt['total_unconfirmed'] = india_data[ind]['Unnamed: 5'][3:].values\n",
        "\n",
        "#df_swt.dropna(inplace=True)\n",
        "for col in df_swt.columns[1:] :\n",
        "    df_swt[col] = df_swt[col].astype(float)\n",
        "\n",
        "df_swt.head()"
      ],
      "execution_count": 58,
      "outputs": [
        {
          "output_type": "execute_result",
          "data": {
            "text/html": [
              "<div>\n",
              "<style scoped>\n",
              "    .dataframe tbody tr th:only-of-type {\n",
              "        vertical-align: middle;\n",
              "    }\n",
              "\n",
              "    .dataframe tbody tr th {\n",
              "        vertical-align: top;\n",
              "    }\n",
              "\n",
              "    .dataframe thead th {\n",
              "        text-align: right;\n",
              "    }\n",
              "</style>\n",
              "<table border=\"1\" class=\"dataframe\">\n",
              "  <thead>\n",
              "    <tr style=\"text-align: right;\">\n",
              "      <th></th>\n",
              "      <th>states</th>\n",
              "      <th>total_tests</th>\n",
              "      <th>total_positive</th>\n",
              "      <th>total_negative</th>\n",
              "      <th>total_unconfirmed</th>\n",
              "    </tr>\n",
              "  </thead>\n",
              "  <tbody>\n",
              "    <tr>\n",
              "      <th>0</th>\n",
              "      <td>Andaman and Nicobar Islands</td>\n",
              "      <td>NaN</td>\n",
              "      <td>NaN</td>\n",
              "      <td>NaN</td>\n",
              "      <td>0.0</td>\n",
              "    </tr>\n",
              "    <tr>\n",
              "      <th>1</th>\n",
              "      <td>Andhra Pradesh</td>\n",
              "      <td>496.0</td>\n",
              "      <td>19.0</td>\n",
              "      <td>412.0</td>\n",
              "      <td>65.0</td>\n",
              "    </tr>\n",
              "    <tr>\n",
              "      <th>2</th>\n",
              "      <td>Arunachal Pradesh</td>\n",
              "      <td>NaN</td>\n",
              "      <td>NaN</td>\n",
              "      <td>NaN</td>\n",
              "      <td>0.0</td>\n",
              "    </tr>\n",
              "    <tr>\n",
              "      <th>3</th>\n",
              "      <td>Assam</td>\n",
              "      <td>NaN</td>\n",
              "      <td>NaN</td>\n",
              "      <td>NaN</td>\n",
              "      <td>0.0</td>\n",
              "    </tr>\n",
              "    <tr>\n",
              "      <th>4</th>\n",
              "      <td>Bihar</td>\n",
              "      <td>NaN</td>\n",
              "      <td>NaN</td>\n",
              "      <td>NaN</td>\n",
              "      <td>0.0</td>\n",
              "    </tr>\n",
              "  </tbody>\n",
              "</table>\n",
              "</div>"
            ],
            "text/plain": [
              "                        states  total_tests  ...  total_negative  total_unconfirmed\n",
              "0  Andaman and Nicobar Islands          NaN  ...             NaN                0.0\n",
              "1               Andhra Pradesh        496.0  ...           412.0               65.0\n",
              "2            Arunachal Pradesh          NaN  ...             NaN                0.0\n",
              "3                        Assam          NaN  ...             NaN                0.0\n",
              "4                        Bihar          NaN  ...             NaN                0.0\n",
              "\n",
              "[5 rows x 5 columns]"
            ]
          },
          "metadata": {
            "tags": []
          },
          "execution_count": 58
        }
      ]
    },
    {
      "cell_type": "code",
      "metadata": {
        "id": "bN2PnhOeyM3d",
        "colab_type": "code",
        "outputId": "fd14d13f-f54d-4c43-9a16-7ae6df0d5ef6",
        "colab": {
          "base_uri": "https://localhost:8080/",
          "height": 204
        }
      },
      "source": [
        "# Merge the statewise cases and tests data\n",
        "df_swtn = pd.merge(df_sw, df_swt)\n",
        "df_swtn.head()"
      ],
      "execution_count": 64,
      "outputs": [
        {
          "output_type": "execute_result",
          "data": {
            "text/html": [
              "<div>\n",
              "<style scoped>\n",
              "    .dataframe tbody tr th:only-of-type {\n",
              "        vertical-align: middle;\n",
              "    }\n",
              "\n",
              "    .dataframe tbody tr th {\n",
              "        vertical-align: top;\n",
              "    }\n",
              "\n",
              "    .dataframe thead th {\n",
              "        text-align: right;\n",
              "    }\n",
              "</style>\n",
              "<table border=\"1\" class=\"dataframe\">\n",
              "  <thead>\n",
              "    <tr style=\"text-align: right;\">\n",
              "      <th></th>\n",
              "      <th>states</th>\n",
              "      <th>confirmed</th>\n",
              "      <th>recovered</th>\n",
              "      <th>death</th>\n",
              "      <th>active</th>\n",
              "      <th>total_tests</th>\n",
              "      <th>total_positive</th>\n",
              "      <th>total_negative</th>\n",
              "      <th>total_unconfirmed</th>\n",
              "    </tr>\n",
              "  </thead>\n",
              "  <tbody>\n",
              "    <tr>\n",
              "      <th>0</th>\n",
              "      <td>Maharashtra</td>\n",
              "      <td>238.0</td>\n",
              "      <td>39.0</td>\n",
              "      <td>10.0</td>\n",
              "      <td>189.0</td>\n",
              "      <td>NaN</td>\n",
              "      <td>NaN</td>\n",
              "      <td>NaN</td>\n",
              "      <td>0.0</td>\n",
              "    </tr>\n",
              "    <tr>\n",
              "      <th>1</th>\n",
              "      <td>Kerala</td>\n",
              "      <td>234.0</td>\n",
              "      <td>20.0</td>\n",
              "      <td>1.0</td>\n",
              "      <td>213.0</td>\n",
              "      <td>5432.0</td>\n",
              "      <td>126.0</td>\n",
              "      <td>3768.0</td>\n",
              "      <td>1538.0</td>\n",
              "    </tr>\n",
              "    <tr>\n",
              "      <th>2</th>\n",
              "      <td>Karnataka</td>\n",
              "      <td>91.0</td>\n",
              "      <td>5.0</td>\n",
              "      <td>3.0</td>\n",
              "      <td>83.0</td>\n",
              "      <td>3076.0</td>\n",
              "      <td>76.0</td>\n",
              "      <td>2763.0</td>\n",
              "      <td>237.0</td>\n",
              "    </tr>\n",
              "    <tr>\n",
              "      <th>3</th>\n",
              "      <td>Delhi</td>\n",
              "      <td>97.0</td>\n",
              "      <td>6.0</td>\n",
              "      <td>2.0</td>\n",
              "      <td>89.0</td>\n",
              "      <td>NaN</td>\n",
              "      <td>NaN</td>\n",
              "      <td>NaN</td>\n",
              "      <td>0.0</td>\n",
              "    </tr>\n",
              "    <tr>\n",
              "      <th>4</th>\n",
              "      <td>Uttar Pradesh</td>\n",
              "      <td>96.0</td>\n",
              "      <td>17.0</td>\n",
              "      <td>0.0</td>\n",
              "      <td>79.0</td>\n",
              "      <td>NaN</td>\n",
              "      <td>NaN</td>\n",
              "      <td>NaN</td>\n",
              "      <td>0.0</td>\n",
              "    </tr>\n",
              "  </tbody>\n",
              "</table>\n",
              "</div>"
            ],
            "text/plain": [
              "          states  confirmed  ...  total_negative  total_unconfirmed\n",
              "0    Maharashtra      238.0  ...             NaN                0.0\n",
              "1         Kerala      234.0  ...          3768.0             1538.0\n",
              "2      Karnataka       91.0  ...          2763.0              237.0\n",
              "3          Delhi       97.0  ...             NaN                0.0\n",
              "4  Uttar Pradesh       96.0  ...             NaN                0.0\n",
              "\n",
              "[5 rows x 9 columns]"
            ]
          },
          "metadata": {
            "tags": []
          },
          "execution_count": 64
        }
      ]
    },
    {
      "cell_type": "code",
      "metadata": {
        "id": "U8rcqjW0Tixg",
        "colab_type": "code",
        "outputId": "df2c5bf4-8c9d-4dd7-d29c-e4376e0f4a03",
        "colab": {
          "base_uri": "https://localhost:8080/",
          "height": 661
        }
      },
      "source": [
        "# Statewise number of cases\n",
        "\n",
        "fig, ax = pl.subplots(1, 1, figsize=(10,20))\n",
        "\n",
        "df_swtn[df_swtn.confirmed >0].sort_values(by=\"confirmed\").set_index(\"states\")[[\n",
        "     \"confirmed\"]].rename({\"confirmed\":\"total confirmed cases\"}, axis=1\n",
        "     ).plot( ax=ax, kind=\"barh\", stacked=False, figsize=(10,10) )\n",
        "\n",
        "ax.get_xaxis().set_tick_params( which='both', direction='out',\n",
        "labelbottom=True, bottom=True, width=.5, labelsize=16, labelrotation=0 )\n",
        "\n",
        "ax.get_yaxis().set_tick_params( which='both', direction='out',\n",
        "labelbottom=True, bottom=True, width=.5, labelsize=14, labelrotation=0 )\n",
        "pl.title(\"Number of confirmed cases \" +\n",
        "         \"for each state \\n (only for states with at least one confirmed case)\", \n",
        "         fontsize=20)\n",
        "ax.set_ylabel( 'States', fontsize=18)\n",
        "ax.set_xlabel('Number data points', fontsize=18)\n",
        "pl.legend(loc=4, fontsize=16)\n",
        "pl.xscale('linear')"
      ],
      "execution_count": 60,
      "outputs": [
        {
          "output_type": "display_data",
          "data": {
            "image/png": "[encoded data removed]",
            "text/plain": [
              "<Figure size 720x720 with 1 Axes>"
            ]
          },
          "metadata": {
            "tags": []
          }
        }
      ]
    },
    {
      "cell_type": "code",
      "metadata": {
        "id": "Iwu5V14AgbkF",
        "colab_type": "code",
        "outputId": "127b3923-e735-4ae8-e6d0-77f641b0b2e4",
        "colab": {
          "base_uri": "https://localhost:8080/",
          "height": 661
        }
      },
      "source": [
        "# Statewise number of cases\n",
        "\n",
        "fig, ax = pl.subplots(1, 1, figsize=(10,20))\n",
        "\n",
        "df_swtn[df_swtn.death > 0].sort_values(by=\"death\").set_index(\"states\")[[\n",
        "     \"death\"]].rename({\"death\":\"total deaths\"}, axis=1\n",
        "     ).plot( ax=ax, kind=\"barh\", stacked=False, figsize=(10,10), color='r')\n",
        "\n",
        "ax.get_xaxis().set_tick_params( which='both', direction='out',\n",
        "labelbottom=True, bottom=True, width=.5, labelsize=16, labelrotation=0 )\n",
        "\n",
        "ax.get_yaxis().set_tick_params( which='both', direction='out',\n",
        "labelbottom=True, bottom=True, width=.5, labelsize=14, labelrotation=0 )\n",
        "\n",
        "for i in range(8) :\n",
        "    pl.axvline(i, color='gray', ls='--')\n",
        "\n",
        "pl.title(\"Total deaths in each state \\n (only for states with at\" +\n",
        "         \"least one confirmed death)\", fontsize=20)\n",
        "ax.set_ylabel( 'States', fontsize=18)\n",
        "ax.set_xlabel('Number of deaths', fontsize=18)\n",
        "pl.legend(loc=4, fontsize=16)\n",
        "pl.xscale('linear')"
      ],
      "execution_count": 61,
      "outputs": [
        {
          "output_type": "display_data",
          "data": {
            "image/png": "[encoded data removed]",
            "text/plain": [
              "<Figure size 720x720 with 1 Axes>"
            ]
          },
          "metadata": {
            "tags": []
          }
        }
      ]
    },
    {
      "cell_type": "code",
      "metadata": {
        "id": "zD3IMEIQU7vp",
        "colab_type": "code",
        "outputId": "4c8942c7-2877-41b9-c419-9260aad1e610",
        "colab": {
          "base_uri": "https://localhost:8080/",
          "height": 915
        }
      },
      "source": [
        "# Statewise number of cases\n",
        "\n",
        "fig, ax = pl.subplots(1, 1, figsize=(10,20))\n",
        "\n",
        "df_swtn[df_swtn.confirmed > 0].sort_values(by=\"confirmed\").set_index(\"states\")[[\n",
        "     \"total_tests\", \"confirmed\", \"recovered\", \"death\"]].rename({'confirmed': 'confirmed',\n",
        "                        \"recovered\":\"recovered\", \"death\":\"deaths\", \n",
        "                        \"total_tests\": \"total tests\"}, axis=1\n",
        "     ).plot( ax=ax, kind=\"barh\", stacked=False, figsize=(10,15))\n",
        "\n",
        "#df_swt[df_swt.total_tests > 0].set_index(\"states\")[[\n",
        "#     \"total_tests\"]].rename({'total_tests': 'total number of tests'}, axis=1\n",
        "#     ).plot( ax=ax, kind=\"barh\", stacked=False, figsize=(10,15))\n",
        "\n",
        "ax.get_xaxis().set_tick_params( which='both', direction='out',\n",
        "labelbottom=True, bottom=True, width=.5, labelsize=16, labelrotation=0 )\n",
        "\n",
        "ax.get_yaxis().set_tick_params( which='both', direction='out',\n",
        "labelbottom=True, bottom=True, width=.5, labelsize=14, labelrotation=0 )\n",
        "\n",
        "x_vals = [1, 5, 10, 20, 30, 50, 70, 100, 200, 500, 1000, 2000, 5000]\n",
        "for i in x_vals :\n",
        "    pl.axvline(i, color='gray', ls='--')\n",
        "\n",
        "pl.title(\"Total confirmed, recovered and deaths in each state\", fontsize=20)\n",
        "ax.set_ylabel( 'States', fontsize=18)\n",
        "ax.set_xlabel('Number of samples', fontsize=18)\n",
        "pl.legend(loc=4, fontsize=16)\n",
        "pl.xscale('log')"
      ],
      "execution_count": 62,
      "outputs": [
        {
          "output_type": "display_data",
          "data": {
            "image/png": "[encoded data removed]",
            "text/plain": [
              "<Figure size 720x1080 with 1 Axes>"
            ]
          },
          "metadata": {
            "tags": []
          }
        }
      ]
    },
    {
      "cell_type": "code",
      "metadata": {
        "id": "_xDNfx55mEIw",
        "colab_type": "code",
        "outputId": "8475694d-4baf-40a9-c3ad-e5dd6fa534d9",
        "colab": {
          "base_uri": "https://localhost:8080/",
          "height": 529
        }
      },
      "source": [
        "# Number of cases time series for whole country\n",
        "\n",
        "fig, ax = pl.subplots(1, 1, figsize=(10,10))\n",
        "\n",
        "df_ts.plot(y='total_confirmed', style=\"-.\", ax=ax, \n",
        "           label='total confirmed cases', figsize=(10,7), marker='o', ms=5, lw=2)\n",
        "\n",
        "df_ts.plot(y='daily_confirmed', style=\"-.\", ax=ax, \n",
        "           label='daily confirmed cases', figsize=(10,7), marker='*', ms=5, lw=2)\n",
        "\n",
        "df_ts.plot(y='total_deaths', style=\"-.\", ax=ax, \n",
        "           label='total deaths', figsize=(10,7), marker='.', ms=5, lw=2)\n",
        "\n",
        "df_ts.plot(y='daily_deaths', style=\"-.\", ax=ax, \n",
        "           label='daily deaths', figsize=(10,7), marker='d', ms=5, lw=2)\n",
        "\n",
        "#df_tt['n_individual']\n",
        "\n",
        "df_tt.plot(y='n_individual', style=\"-*\", ax=ax, \n",
        "           label='total tests', figsize=(10,7), marker='d', ms=5, lw=2)\n",
        "\n",
        "ax.get_xaxis().set_tick_params( which='both', direction='out',\n",
        "labelbottom=True, bottom=True, width=.5, labelsize=16, labelrotation=0 )\n",
        "\n",
        "ax.get_yaxis().set_tick_params( which='both', direction='out',\n",
        "labelbottom=True, bottom=True, width=.5, labelsize=16, labelrotation=25 )\n",
        "\n",
        "y_vals = [1, 10, 20, 50, 100, 200, 500, 1000]\n",
        "for i in y_vals :\n",
        "    pl.axhline(i, color='gray', ls='--')\n",
        "\n",
        "ax.set_yscale('log')\n",
        "\n",
        "pl.legend(loc=2, fontsize=16)\n",
        "\n",
        "pl.ylabel(\"number of cases\", fontsize=18)\n",
        "pl.xlabel(\"Date\", fontsize=18)\n",
        "pl.title(\"Covid-19, India time series\", fontsize=20);"
      ],
      "execution_count": 70,
      "outputs": [
        {
          "output_type": "display_data",
          "data": {
            "image/png": "[encoded data removed]",
            "text/plain": [
              "<Figure size 720x504 with 1 Axes>"
            ]
          },
          "metadata": {
            "tags": []
          }
        }
      ]
    },
    {
      "cell_type": "code",
      "metadata": {
        "id": "PM4FRdSUrRm3",
        "colab_type": "code",
        "colab": {
          "base_uri": "https://localhost:8080/",
          "height": 700
        },
        "outputId": "b11a8de6-80b1-4e64-91a8-144a9dc33448"
      },
      "source": [
        "df_tt"
      ],
      "execution_count": 68,
      "outputs": [
        {
          "output_type": "execute_result",
          "data": {
            "text/html": [
              "<div>\n",
              "<style scoped>\n",
              "    .dataframe tbody tr th:only-of-type {\n",
              "        vertical-align: middle;\n",
              "    }\n",
              "\n",
              "    .dataframe tbody tr th {\n",
              "        vertical-align: top;\n",
              "    }\n",
              "\n",
              "    .dataframe thead th {\n",
              "        text-align: right;\n",
              "    }\n",
              "</style>\n",
              "<table border=\"1\" class=\"dataframe\">\n",
              "  <thead>\n",
              "    <tr style=\"text-align: right;\">\n",
              "      <th></th>\n",
              "      <th>n_samples</th>\n",
              "      <th>n_individual</th>\n",
              "      <th>n_positive</th>\n",
              "    </tr>\n",
              "  </thead>\n",
              "  <tbody>\n",
              "    <tr>\n",
              "      <th>NaT</th>\n",
              "      <td>NaN</td>\n",
              "      <td>NaN</td>\n",
              "      <td>NaN</td>\n",
              "    </tr>\n",
              "    <tr>\n",
              "      <th>2020-03-13 00:00:00</th>\n",
              "      <td>6500.0</td>\n",
              "      <td>5900.0</td>\n",
              "      <td>78.0</td>\n",
              "    </tr>\n",
              "    <tr>\n",
              "      <th>2020-03-18 18:00:00</th>\n",
              "      <td>13125.0</td>\n",
              "      <td>12235.0</td>\n",
              "      <td>150.0</td>\n",
              "    </tr>\n",
              "    <tr>\n",
              "      <th>2020-03-19 10:00:00</th>\n",
              "      <td>13316.0</td>\n",
              "      <td>12426.0</td>\n",
              "      <td>168.0</td>\n",
              "    </tr>\n",
              "    <tr>\n",
              "      <th>2020-03-19 18:00:00</th>\n",
              "      <td>14175.0</td>\n",
              "      <td>13285.0</td>\n",
              "      <td>182.0</td>\n",
              "    </tr>\n",
              "    <tr>\n",
              "      <th>2020-03-20 10:00:00</th>\n",
              "      <td>14376.0</td>\n",
              "      <td>13486.0</td>\n",
              "      <td>206.0</td>\n",
              "    </tr>\n",
              "    <tr>\n",
              "      <th>2020-03-20 18:00:00</th>\n",
              "      <td>15404.0</td>\n",
              "      <td>14514.0</td>\n",
              "      <td>236.0</td>\n",
              "    </tr>\n",
              "    <tr>\n",
              "      <th>2020-03-21 10:00:00</th>\n",
              "      <td>15701.0</td>\n",
              "      <td>14811.0</td>\n",
              "      <td>271.0</td>\n",
              "    </tr>\n",
              "    <tr>\n",
              "      <th>2020-03-21 18:00:00</th>\n",
              "      <td>16911.0</td>\n",
              "      <td>16021.0</td>\n",
              "      <td>315.0</td>\n",
              "    </tr>\n",
              "    <tr>\n",
              "      <th>2020-03-22 10:00:00</th>\n",
              "      <td>16999.0</td>\n",
              "      <td>16109.0</td>\n",
              "      <td>341.0</td>\n",
              "    </tr>\n",
              "    <tr>\n",
              "      <th>2020-03-22 18:00:00</th>\n",
              "      <td>18127.0</td>\n",
              "      <td>17237.0</td>\n",
              "      <td>396.0</td>\n",
              "    </tr>\n",
              "    <tr>\n",
              "      <th>2020-03-23 10:00:00</th>\n",
              "      <td>18383.0</td>\n",
              "      <td>17493.0</td>\n",
              "      <td>415.0</td>\n",
              "    </tr>\n",
              "    <tr>\n",
              "      <th>2020-03-23 20:00:00</th>\n",
              "      <td>20707.0</td>\n",
              "      <td>19817.0</td>\n",
              "      <td>471.0</td>\n",
              "    </tr>\n",
              "    <tr>\n",
              "      <th>2020-03-24 10:00:00</th>\n",
              "      <td>20864.0</td>\n",
              "      <td>19974.0</td>\n",
              "      <td>482.0</td>\n",
              "    </tr>\n",
              "    <tr>\n",
              "      <th>2020-03-24 20:00:00</th>\n",
              "      <td>22694.0</td>\n",
              "      <td>21804.0</td>\n",
              "      <td>536.0</td>\n",
              "    </tr>\n",
              "    <tr>\n",
              "      <th>2020-03-25 10:00:00</th>\n",
              "      <td>22928.0</td>\n",
              "      <td>22038.0</td>\n",
              "      <td>539.0</td>\n",
              "    </tr>\n",
              "    <tr>\n",
              "      <th>2020-03-25 20:00:00</th>\n",
              "      <td>25144.0</td>\n",
              "      <td>24254.0</td>\n",
              "      <td>581.0</td>\n",
              "    </tr>\n",
              "    <tr>\n",
              "      <th>2020-03-26 10:00:00</th>\n",
              "      <td>NaN</td>\n",
              "      <td>NaN</td>\n",
              "      <td>NaN</td>\n",
              "    </tr>\n",
              "    <tr>\n",
              "      <th>2020-03-26 18:00:00</th>\n",
              "      <td>NaN</td>\n",
              "      <td>NaN</td>\n",
              "      <td>NaN</td>\n",
              "    </tr>\n",
              "    <tr>\n",
              "      <th>2020-03-27 09:00:00</th>\n",
              "      <td>27688.0</td>\n",
              "      <td>26798.0</td>\n",
              "      <td>691.0</td>\n",
              "    </tr>\n",
              "    <tr>\n",
              "      <th>2020-03-30 00:00:00</th>\n",
              "      <td>38442.0</td>\n",
              "      <td>NaN</td>\n",
              "      <td>NaN</td>\n",
              "    </tr>\n",
              "  </tbody>\n",
              "</table>\n",
              "</div>"
            ],
            "text/plain": [
              "                     n_samples  n_individual  n_positive\n",
              "NaT                        NaN           NaN         NaN\n",
              "2020-03-13 00:00:00     6500.0        5900.0        78.0\n",
              "2020-03-18 18:00:00    13125.0       12235.0       150.0\n",
              "2020-03-19 10:00:00    13316.0       12426.0       168.0\n",
              "2020-03-19 18:00:00    14175.0       13285.0       182.0\n",
              "2020-03-20 10:00:00    14376.0       13486.0       206.0\n",
              "2020-03-20 18:00:00    15404.0       14514.0       236.0\n",
              "2020-03-21 10:00:00    15701.0       14811.0       271.0\n",
              "2020-03-21 18:00:00    16911.0       16021.0       315.0\n",
              "2020-03-22 10:00:00    16999.0       16109.0       341.0\n",
              "2020-03-22 18:00:00    18127.0       17237.0       396.0\n",
              "2020-03-23 10:00:00    18383.0       17493.0       415.0\n",
              "2020-03-23 20:00:00    20707.0       19817.0       471.0\n",
              "2020-03-24 10:00:00    20864.0       19974.0       482.0\n",
              "2020-03-24 20:00:00    22694.0       21804.0       536.0\n",
              "2020-03-25 10:00:00    22928.0       22038.0       539.0\n",
              "2020-03-25 20:00:00    25144.0       24254.0       581.0\n",
              "2020-03-26 10:00:00        NaN           NaN         NaN\n",
              "2020-03-26 18:00:00        NaN           NaN         NaN\n",
              "2020-03-27 09:00:00    27688.0       26798.0       691.0\n",
              "2020-03-30 00:00:00    38442.0           NaN         NaN"
            ]
          },
          "metadata": {
            "tags": []
          },
          "execution_count": 68
        }
      ]
    },
    {
      "cell_type": "code",
      "metadata": {
        "id": "dpaBwA4dq13l",
        "colab_type": "code",
        "colab": {}
      },
      "source": [
        ""
      ],
      "execution_count": 0,
      "outputs": []
    },
    {
      "cell_type": "code",
      "metadata": {
        "id": "mUZ_yqbcwE2b",
        "colab_type": "code",
        "outputId": "e7d84a71-f02e-4904-e0dc-266baaa9c139",
        "colab": {
          "base_uri": "https://localhost:8080/",
          "height": 915
        }
      },
      "source": [
        "# Statewise number of cases\n",
        "\n",
        "fig, ax = pl.subplots(1, 1, figsize=(10,20))\n",
        "\n",
        "df_sw[df_sw.confirmed > 0].sort_values(by=\"confirmed\").set_index(\"states\")[[\n",
        "     \"confirmed\", \"recovered\", \"death\"]].rename({'confirmed': 'total confirmed cases',\n",
        "                        \"recovered\":\"recovered\", \"death\":\"total deaths\"}, axis=1\n",
        "     ).plot( ax=ax, kind=\"barh\", stacked=False, figsize=(10,15))\n",
        "\n",
        "ax.get_xaxis().set_tick_params( which='both', direction='out',\n",
        "labelbottom=True, bottom=True, width=.5, labelsize=16, labelrotation=0 )\n",
        "\n",
        "ax.get_yaxis().set_tick_params( which='both', direction='out',\n",
        "labelbottom=True, bottom=True, width=.5, labelsize=14, labelrotation=0 )\n",
        "\n",
        "x_vals = [1, 5, 10, 20, 30, 50, 70, 100, 200]\n",
        "for i in x_vals :\n",
        "    pl.axvline(i, color='gray', ls='--')\n",
        "\n",
        "pl.title(\"Total confirmed, recovered and deaths in each state\", fontsize=20)\n",
        "ax.set_ylabel( 'States', fontsize=18)\n",
        "ax.set_xlabel('Number of deaths', fontsize=18)\n",
        "pl.legend(loc=4, fontsize=16)\n",
        "pl.xscale('log')"
      ],
      "execution_count": 65,
      "outputs": [
        {
          "output_type": "display_data",
          "data": {
            "image/png": "[encoded data removed]",
            "text/plain": [
              "<Figure size 720x1080 with 1 Axes>"
            ]
          },
          "metadata": {
            "tags": []
          }
        }
      ]
    },
    {
      "cell_type": "code",
      "metadata": {
        "id": "WYWOqYYvw2Tr",
        "colab_type": "code",
        "colab": {}
      },
      "source": [
        "# JHU database on COVID-19\n",
        "# https://github.com/CSSEGISandData/COVID-19/tree/master/csse_covid_19_data\n",
        "root = \"https://raw.githubusercontent.com/CSSEGISandData/COVID-19/master/csse_covid_19_data/csse_covid_19_time_series/\"\n",
        "# get the number of dead people\n",
        "deaths = pd.read_csv(root + \"/time_series_covid19_deaths_global.csv\")\n",
        "#deaths = pd.read_csv(root + \"/time_series_19-covid-Deaths.csv\")\n",
        "confirmed = pd.read_csv(root + \"/time_series_covid19_confirmed_global.csv\")"
      ],
      "execution_count": 0,
      "outputs": []
    },
    {
      "cell_type": "code",
      "metadata": {
        "id": "FgkV1dlpw5lg",
        "colab_type": "code",
        "outputId": "6af5b8b4-49d8-45fd-e2f8-51e46c9060d5",
        "colab": {
          "base_uri": "https://localhost:8080/",
          "height": 34
        }
      },
      "source": [
        "firstdate = pd.to_datetime(deaths.columns[4])\n",
        "firstdate"
      ],
      "execution_count": 0,
      "outputs": [
        {
          "output_type": "execute_result",
          "data": {
            "text/plain": [
              "Timestamp('2020-01-22 00:00:00')"
            ]
          },
          "metadata": {
            "tags": []
          },
          "execution_count": 29
        }
      ]
    },
    {
      "cell_type": "code",
      "metadata": {
        "id": "z7cKUO-Mw8gx",
        "colab_type": "code",
        "colab": {}
      },
      "source": [
        "# last day contains the cumulative death rate\n",
        "deaths[\"totaldeaths\"] = deaths[deaths.columns[-1]]\n",
        "confirmed[\"totalconfirmed\"] = confirmed[confirmed.columns[-1]]"
      ],
      "execution_count": 0,
      "outputs": []
    },
    {
      "cell_type": "code",
      "metadata": {
        "id": "q9D03xnnw_yH",
        "colab_type": "code",
        "colab": {}
      },
      "source": [
        "# combine lat and lon to one column\n",
        "lonlat_deaths = list(zip(deaths.Long, \n",
        "                  deaths.Lat))\n",
        "\n",
        "lonlat_confirmed = list(zip(confirmed.Long, \n",
        "                  confirmed.Lat))"
      ],
      "execution_count": 0,
      "outputs": []
    },
    {
      "cell_type": "code",
      "metadata": {
        "id": "aWC8bc3OxBlP",
        "colab_type": "code",
        "outputId": "bcf03649-df70-428d-c427-a0acee08d2c0",
        "colab": {
          "base_uri": "https://localhost:8080/",
          "height": 231
        }
      },
      "source": [
        "# creating the geometry\n",
        "# Create Point Geometry for based on lonlat column\n",
        "\n",
        "deaths.reset_index(inplace=True)\n",
        "deaths = gpd.GeoDataFrame(deaths)\n",
        "deaths[\"lonlat\"] = lonlat_deaths\n",
        "\n",
        "deaths['geometry'] = deaths[['lonlat']].applymap(lambda x:shapely.geometry.Point(x))"
      ],
      "execution_count": 0,
      "outputs": [
        {
          "output_type": "error",
          "ename": "NameError",
          "evalue": "ignored",
          "traceback": [
            "\u001b[0;31m---------------------------------------------------------------------------\u001b[0m",
            "\u001b[0;31mNameError\u001b[0m                                 Traceback (most recent call last)",
            "\u001b[0;32m<ipython-input-32-8685a0494a51>\u001b[0m in \u001b[0;36m<module>\u001b[0;34m()\u001b[0m\n\u001b[1;32m      1\u001b[0m \u001b[0;34m\u001b[0m\u001b[0m\n\u001b[1;32m      2\u001b[0m \u001b[0mdeaths\u001b[0m\u001b[0;34m.\u001b[0m\u001b[0mreset_index\u001b[0m\u001b[0;34m(\u001b[0m\u001b[0minplace\u001b[0m\u001b[0;34m=\u001b[0m\u001b[0;32mTrue\u001b[0m\u001b[0;34m)\u001b[0m\u001b[0;34m\u001b[0m\u001b[0;34m\u001b[0m\u001b[0m\n\u001b[0;32m----> 3\u001b[0;31m \u001b[0mdeaths\u001b[0m \u001b[0;34m=\u001b[0m \u001b[0mgpd\u001b[0m\u001b[0;34m.\u001b[0m\u001b[0mGeoDataFrame\u001b[0m\u001b[0;34m(\u001b[0m\u001b[0mdeaths\u001b[0m\u001b[0;34m)\u001b[0m\u001b[0;34m\u001b[0m\u001b[0;34m\u001b[0m\u001b[0m\n\u001b[0m\u001b[1;32m      4\u001b[0m \u001b[0mdeaths\u001b[0m\u001b[0;34m[\u001b[0m\u001b[0;34m\"lonlat\"\u001b[0m\u001b[0;34m]\u001b[0m \u001b[0;34m=\u001b[0m \u001b[0mlonlat_deaths\u001b[0m\u001b[0;34m\u001b[0m\u001b[0;34m\u001b[0m\u001b[0m\n\u001b[1;32m      5\u001b[0m \u001b[0;34m\u001b[0m\u001b[0m\n",
            "\u001b[0;31mNameError\u001b[0m: name 'gpd' is not defined"
          ]
        }
      ]
    },
    {
      "cell_type": "code",
      "metadata": {
        "id": "E54WAuDxxEDq",
        "colab_type": "code",
        "outputId": "d321e6c3-c399-4d21-e556-cd98ab275781",
        "colab": {
          "base_uri": "https://localhost:8080/",
          "height": 231
        }
      },
      "source": [
        "# creating the geometry\n",
        "# Create Point Geometry for based on lonlat column\n",
        "\n",
        "confirmed.reset_index(inplace=True)\n",
        "confirmed = gpd.GeoDataFrame(confirmed)\n",
        "confirmed[\"lonlat\"] = lonlat_confirmed\n",
        "\n",
        "confirmed['geometry'] = confirmed[['lonlat']].applymap(lambda x:shapely.geometry.Point(x))"
      ],
      "execution_count": 0,
      "outputs": [
        {
          "output_type": "error",
          "ename": "NameError",
          "evalue": "ignored",
          "traceback": [
            "\u001b[0;31m---------------------------------------------------------------------------\u001b[0m",
            "\u001b[0;31mNameError\u001b[0m                                 Traceback (most recent call last)",
            "\u001b[0;32m<ipython-input-33-0051c43465c8>\u001b[0m in \u001b[0;36m<module>\u001b[0;34m()\u001b[0m\n\u001b[1;32m      1\u001b[0m \u001b[0;34m\u001b[0m\u001b[0m\n\u001b[1;32m      2\u001b[0m \u001b[0mconfirmed\u001b[0m\u001b[0;34m.\u001b[0m\u001b[0mreset_index\u001b[0m\u001b[0;34m(\u001b[0m\u001b[0minplace\u001b[0m\u001b[0;34m=\u001b[0m\u001b[0;32mTrue\u001b[0m\u001b[0;34m)\u001b[0m\u001b[0;34m\u001b[0m\u001b[0;34m\u001b[0m\u001b[0m\n\u001b[0;32m----> 3\u001b[0;31m \u001b[0mconfirmed\u001b[0m \u001b[0;34m=\u001b[0m \u001b[0mgpd\u001b[0m\u001b[0;34m.\u001b[0m\u001b[0mGeoDataFrame\u001b[0m\u001b[0;34m(\u001b[0m\u001b[0mconfirmed\u001b[0m\u001b[0;34m)\u001b[0m\u001b[0;34m\u001b[0m\u001b[0;34m\u001b[0m\u001b[0m\n\u001b[0m\u001b[1;32m      4\u001b[0m \u001b[0mconfirmed\u001b[0m\u001b[0;34m[\u001b[0m\u001b[0;34m\"lonlat\"\u001b[0m\u001b[0;34m]\u001b[0m \u001b[0;34m=\u001b[0m \u001b[0mlonlat_confirmed\u001b[0m\u001b[0;34m\u001b[0m\u001b[0;34m\u001b[0m\u001b[0m\n\u001b[1;32m      5\u001b[0m \u001b[0;34m\u001b[0m\u001b[0m\n",
            "\u001b[0;31mNameError\u001b[0m: name 'gpd' is not defined"
          ]
        }
      ]
    },
    {
      "cell_type": "code",
      "metadata": {
        "id": "6H7KpUV8xGId",
        "colab_type": "code",
        "colab": {}
      },
      "source": [
        "# I want the data as granular as country. \n",
        "# More granular would be great but I could not map it wisely \n",
        "# (I would need to find a map of provinces worldwide \n",
        "# and do a lot of name matching to merge properly)\n",
        "deaths[\"Country/Region\"].replace(\"Mainland China\", \"China\", inplace=True)\n",
        "deaths[\"Country/Region\"].replace(\"UK\", \"United Kingdom\", inplace=True)\n",
        "deaths[\"Country/Region\"].replace(\"US\", \"United States\", inplace=True)\n",
        "deaths = deaths.groupby(\"Country/Region\").sum()\n",
        "deaths['logtotaldeaths'] = np.log10(deaths['totaldeaths'] + 1)\n",
        "\n",
        "confirmed[\"Country/Region\"].replace(\"Mainland China\", \"China\", inplace=True)\n",
        "confirmed[\"Country/Region\"].replace(\"UK\", \"United Kingdom\", inplace=True)\n",
        "confirmed[\"Country/Region\"].replace(\"US\", \"United States\", inplace=True)\n",
        "confirmed = confirmed.groupby(\"Country/Region\").sum()\n",
        "confirmed['logtotalconfirmed'] = np.log10(confirmed['totalconfirmed'] + 1)"
      ],
      "execution_count": 0,
      "outputs": []
    },
    {
      "cell_type": "code",
      "metadata": {
        "id": "eXK6v3HYxIk3",
        "colab_type": "code",
        "colab": {}
      },
      "source": [
        "\n",
        "deaths[\"firstoccurrence\"] = np.zeros(len(deaths)) * np.nan\n",
        "for i in deaths.index:\n",
        "    done = False\n",
        "    for j in range(0, len(deaths.columns)):\n",
        "        #print(i,j, deaths.iloc[i,j], done)\n",
        "        if done:\n",
        "            break\n",
        "        try :\n",
        "          pd.to_datetime(deaths.columns[j])\n",
        "        except ValueError:\n",
        "          continue\n",
        "        #print(i, j, deaths.iloc[i,j])\n",
        "        if (deaths.loc[i][j]) > 0: \n",
        "            #print(\"\\t\", i,j, deaths.iloc[i,j], done)\n",
        "            deaths.loc[i, \"firstoccurrence\"] = pd.to_datetime(deaths.columns[j])          \n",
        "            done = True\n",
        "\n",
        "confirmed[\"firstoccurrence\"] = np.zeros(len(confirmed)) * np.nan\n",
        "for i in confirmed.index:\n",
        "    done = False\n",
        "    for j in range(0, len(confirmed.columns)):\n",
        "        #print(i,j, confirmed.iloc[i,j], done)\n",
        "        if done:\n",
        "            break\n",
        "        try :\n",
        "          pd.to_datetime(confirmed.columns[j])\n",
        "        except ValueError:\n",
        "          continue\n",
        "        #print(i, j, confirmed.iloc[i,j])\n",
        "        if (confirmed.loc[i][j]) > 0: \n",
        "            #print(\"\\t\", i,j, confirmed.iloc[i,j], done)\n",
        "            confirmed.loc[i, \"firstoccurrence\"] = pd.to_datetime(confirmed.columns[j])          \n",
        "            done = True"
      ],
      "execution_count": 0,
      "outputs": []
    },
    {
      "cell_type": "code",
      "metadata": {
        "id": "3sAdVjcLxLUY",
        "colab_type": "code",
        "outputId": "790842f6-40bd-4cc1-b3cc-cbdab0699c84",
        "colab": {
          "base_uri": "https://localhost:8080/",
          "height": 85
        }
      },
      "source": [
        "print (\"as of {}\".format(pd.to_datetime(\"today\").date()))\n",
        "print (\"number of countries in the database {:d}\".format(len(deaths)))\n",
        "print (\"number of countries with at least 1 death {:d}\".format(\n",
        "    (deaths.totaldeaths > 0).sum()))\n",
        "print (\"number of countries with at least 1 confirmed case {:d}\".format(\n",
        "    (confirmed.totalconfirmed > 0).sum()))"
      ],
      "execution_count": 0,
      "outputs": [
        {
          "output_type": "stream",
          "text": [
            "as of 2020-03-30\n",
            "number of countries in the database 177\n",
            "number of countries with at least 1 death 119\n",
            "number of countries with at least 1 confirmed case 177\n"
          ],
          "name": "stdout"
        }
      ]
    },
    {
      "cell_type": "code",
      "metadata": {
        "id": "IUMEhAeLxNdv",
        "colab_type": "code",
        "outputId": "52a4ab30-8eb8-433b-835d-895670aaa0fe",
        "colab": {
          "base_uri": "https://localhost:8080/",
          "height": 34
        }
      },
      "source": [
        "# how many days are in the database?\n",
        "maxday = pd.Timedelta(pd.to_datetime(\"today\").normalize() - pd.to_datetime(\"01/01/2020\"))\n",
        "maxday -= pd.Timedelta(2, unit=\"day\")\n",
        "maxday"
      ],
      "execution_count": 0,
      "outputs": [
        {
          "output_type": "execute_result",
          "data": {
            "text/plain": [
              "Timedelta('87 days 00:00:00')"
            ]
          },
          "metadata": {
            "tags": []
          },
          "execution_count": 37
        }
      ]
    },
    {
      "cell_type": "code",
      "metadata": {
        "id": "NdFaG_DuxSr3",
        "colab_type": "code",
        "colab": {}
      },
      "source": [
        "# it will be convenient to have the log number, instead of the natural number, \n",
        "# or maps will have too much contrast \n",
        "# I am adding it to columns with columname the date, but as a string\n",
        "def addlogbydate(df):\n",
        "  for d in df.columns:\n",
        "    try :\n",
        "      pd.to_datetime(d)\n",
        "    except ValueError:\n",
        "      continue\n",
        "    df[pd.to_datetime(d).strftime('%Y-%m-%d')] = df[d]\n",
        "  return df"
      ],
      "execution_count": 0,
      "outputs": []
    },
    {
      "cell_type": "code",
      "metadata": {
        "id": "uUiZWGdOxU9R",
        "colab_type": "code",
        "colab": {}
      },
      "source": [
        "deaths = addlogbydate(deaths).reset_index()\n",
        "confirmed = addlogbydate(confirmed).reset_index()"
      ],
      "execution_count": 0,
      "outputs": []
    },
    {
      "cell_type": "code",
      "metadata": {
        "id": "arjdwahwxXi5",
        "colab_type": "code",
        "colab": {}
      },
      "source": [
        "def get_dataset(df=None, day=None, key=\"firstoccurrence\"):\n",
        "    ''' this produces a geodataframe by country with the number of deaths by day\n",
        "    df: the dataframe with covid data\n",
        "    day: the date to be plotted in days since 01/01/2020\n",
        "    key: only used if day is None - name of a column, it will extract data for that column\n",
        "    returns the dataframe combined with a world map and converted to a dataframe, the column used'''\n",
        "    if day is None:\n",
        "      newt = key\n",
        "      print('Day was None')\n",
        "    else:\n",
        "      newt = (pd.to_datetime(\"1/1/2020\") + pd.Timedelta(day, \"D\")).strftime('%Y-%m-%d')\n",
        "\n",
        "    if newt not in df.columns:\n",
        "        raise ValueError('Number out of range. Please ensure that the number\\\n",
        "        of days lies between 0 and number of days passed since January 1st, 2020')\n",
        "        return\n",
        "        #newt = firstdate.strftime('%Y-%m-%d')\n",
        "    \n",
        "    worlddeaths = world[[\"NAME\", \"geometry\"]].merge(\n",
        "        df[[\"Country/Region\", newt]], \n",
        "        left_on=\"NAME\", right_on=\"Country/Region\", how=\"left\")\n",
        "    \n",
        "    worlddeaths = gpd.GeoDataFrame(worlddeaths.groupby(\"NAME\").sum().reset_index(\n",
        "    ).merge(worlddeaths[[\"NAME\", \"geometry\"]].drop_duplicates(subset=\"NAME\"), \n",
        "            on=\"NAME\", how=\"left\"))\n",
        "    worlddeaths[newt] = worlddeaths[newt].fillna(0)\n",
        "    \n",
        "    return worlddeaths, newt\n",
        "#get_dataset(1)"
      ],
      "execution_count": 0,
      "outputs": []
    },
    {
      "cell_type": "code",
      "metadata": {
        "id": "XsDK1qCNxaCU",
        "colab_type": "code",
        "outputId": "16aa5346-9b1b-445e-b9fb-4bcfd2c3fb08",
        "colab": {
          "base_uri": "https://localhost:8080/",
          "height": 180
        }
      },
      "source": [
        "# from the JHU database\n",
        "infected = gpd.GeoDataFrame(pd.read_csv(root + \n",
        "                                        \"time_series_covid19_confirmed_global.csv\"))"
      ],
      "execution_count": 0,
      "outputs": [
        {
          "output_type": "error",
          "ename": "NameError",
          "evalue": "ignored",
          "traceback": [
            "\u001b[0;31m---------------------------------------------------------------------------\u001b[0m",
            "\u001b[0;31mNameError\u001b[0m                                 Traceback (most recent call last)",
            "\u001b[0;32m<ipython-input-41-4f3049ae9d4a>\u001b[0m in \u001b[0;36m<module>\u001b[0;34m()\u001b[0m\n\u001b[0;32m----> 1\u001b[0;31m infected = gpd.GeoDataFrame(pd.read_csv(root + \n\u001b[0m\u001b[1;32m      2\u001b[0m                                         \"time_series_covid19_confirmed_global.csv\"))\n",
            "\u001b[0;31mNameError\u001b[0m: name 'gpd' is not defined"
          ]
        }
      ]
    },
    {
      "cell_type": "code",
      "metadata": {
        "id": "WWgcYsAFxchI",
        "colab_type": "code",
        "colab": {}
      },
      "source": [
        "infected = infected.groupby(\"Country/Region\").sum()\n",
        "# number of dates in the database\n",
        "N = infected.shape[1] - 2"
      ],
      "execution_count": 0,
      "outputs": []
    },
    {
      "cell_type": "code",
      "metadata": {
        "id": "7ncr9DJBxexU",
        "colab_type": "code",
        "colab": {}
      },
      "source": [
        "infected.reset_index(inplace=True)\n",
        "infected[\"Country/Region\"].replace(\"Mainland China\", \"China\", inplace=True)\n",
        "infected[\"Country/Region\"].replace(\"UK\", \"United Kingdom\", inplace=True)\n",
        "infected[\"Country/Region\"].replace(\"US\", \"United States\", inplace=True)"
      ],
      "execution_count": 0,
      "outputs": []
    },
    {
      "cell_type": "code",
      "metadata": {
        "id": "ed8hYVMIxiLR",
        "colab_type": "code",
        "colab": {}
      },
      "source": [
        "#world = gpd.GeoDataFrame.from_file(\"TM_WORLD_BORDERS_SIMPL-0.3.shp\")\n",
        "\n",
        "#infected[\"totalinfected\"] = infected[infected.columns[-1]]\n",
        "#infected = addlogbydate(infected)\n",
        "\n",
        "#data, key = get_dataset(day=24, df=infected)\n",
        "#data = gpd.GeoDataFrame(data.groupby(\"NAME\").sum().reset_index(\n",
        "#    ).merge(data[[\"NAME\", \"geometry\"]].drop_duplicates(subset=\"NAME\"), \n",
        "#            on=\"NAME\", how=\"left\")).plot()"
      ],
      "execution_count": 0,
      "outputs": []
    },
    {
      "cell_type": "code",
      "metadata": {
        "id": "dVWmHRpnxkBM",
        "colab_type": "code",
        "colab": {}
      },
      "source": [
        "# the rate of contagion by country over time\n",
        "def getcountry (df, country):\n",
        "  return df[df[\"Country/Region\"] == country].set_index(\"Country/Region\")[\n",
        "                  df.columns[3:N+3]].T.reset_index()\n",
        "\n",
        "fig, ax = pl.subplots(1, 1, figsize=(10,5))\n",
        "for country in infected[\"Country/Region\"].values:\n",
        "\n",
        "  tmp = getcountry(infected, country)#.set_index(\"Country/Region\")\n",
        "  tmp.plot(style=\"-.\", \n",
        "           ax=ax, label=None,\n",
        "           legend=False,\n",
        "           #label=country, \n",
        "           figsize=(10,5))\n",
        "pl.yscale(\"log\")\n",
        "pl.ylabel(\"number of people tested that are infected\")\n",
        "pl.xlabel(\"days since 01/22/2020\")\n",
        "pl.title(\"rate of contagion by country over time\");"
      ],
      "execution_count": 0,
      "outputs": []
    },
    {
      "cell_type": "code",
      "metadata": {
        "id": "hG5bSuthxmQn",
        "colab_type": "code",
        "colab": {}
      },
      "source": [
        "india = getcountry(infected, 'India')\n",
        "italy = getcountry(infected, 'Italy')\n",
        "us = getcountry(infected, 'United States')\n",
        "china = getcountry(infected, 'China')\n",
        "iran = getcountry(infected, 'Iran')\n",
        "srl = getcountry(infected, 'Sri Lanka')\n",
        "\n",
        "fig, ax = pl.subplots(1, 1, figsize=(10,7))\n",
        "\n",
        "india.plot(style=\"-.\", ax=ax,label='India', figsize=(10,7))\n",
        "italy.plot(style=\"-.\", ax=ax, label='Italy', figsize=(10,7))\n",
        "us.plot(style=\"-.\", ax=ax, label='US', figsize=(10,7))\n",
        "china.plot(style=\"-.\", ax=ax, label='China', figsize=(10,7))\n",
        "iran.plot(style=\"-.\", ax=ax, label='Iran', figsize=(10,7))\n",
        "srl.plot(style=\"-.\", ax=ax, label='Sri Lanka', figsize=(10,7))\n",
        "\n",
        "pl.yscale(\"log\")\n",
        "pl.ylabel(\"number of people tested that are infected\")\n",
        "pl.xlabel(\"days since 01/22/2020\")\n",
        "pl.title(\"rate of contagion by country over time\");\n",
        "#plt.figure()\n",
        "#plt.plot(india)"
      ],
      "execution_count": 0,
      "outputs": []
    },
    {
      "cell_type": "code",
      "metadata": {
        "id": "C0jPCFNLxop0",
        "colab_type": "code",
        "colab": {}
      },
      "source": [
        "india = getcountry(infected, 'India')\n",
        "italy = getcountry(infected, 'Italy')\n",
        "us = getcountry(infected, 'United States')\n",
        "china = getcountry(infected, 'China')\n",
        "iran = getcountry(infected, 'Iran')\n",
        "germany = getcountry(infected, 'Germany')\n",
        "\n",
        "idx_ind = where( india.India >= 0 )[0]\n",
        "idx_itl = where( italy.Italy >= 0 )[0]\n",
        "idx_usa = where( us['United States'] >= 0 )[0]\n",
        "idx_chn = where( china.China >= 0 )[0]\n",
        "idx_irn = where( iran.Iran >= 0 )[0]\n",
        "idx_grn = where( germany.Germany >= 0 )[0]\n",
        "\n",
        "ls = '-.'\n",
        "ms = 4\n",
        "\n",
        "fig, ax = pl.subplots(1, 1, figsize=(10,8))\n",
        "\n",
        "ax.plot( arange(len(idx_ind)), india.India[idx_ind], 'gh', label='India', ms=ms, ls=ls )\n",
        "ax.plot( arange(len(idx_itl)), italy.Italy[idx_itl],  'r*', label='Italy', ms=ms, ls=ls )\n",
        "ax.plot( arange(len(idx_usa)), us['United States'][idx_usa], 'bd', label='USA', ms=ms, ls=ls )\n",
        "ax.plot( arange(len(idx_chn)), china.China[idx_chn],  'k*', label='China', ms=ms, ls=ls )\n",
        "ax.plot( arange(len(idx_irn)), iran.Iran[idx_irn], 'mH', label='Iran', ms=ms, ls=ls )\n",
        "ax.plot( arange(len(idx_grn)), germany.Germany[idx_grn], 'cH', label='Germany', ms=ms, ls=ls )\n",
        "\n",
        "ax.set_ylabel('Number of infected people', fontsize=20)\n",
        "ax.set_xlabel('Days since first case was reported in the country', fontsize=20)\n",
        "ax.set_title('Number of infected people since first day', fontsize=20)\n",
        "ax.set_yscale('log')\n",
        "\n",
        "ax.get_xaxis().set_tick_params( which='both', direction='out',\n",
        "labelbottom=True, bottom=True, width=.5, labelsize=16, labelrotation=0 )\n",
        "\n",
        "ax.get_yaxis().set_tick_params( which='both', direction='out',\n",
        "labelbottom=True, bottom=True, labelright=True, right=True, width=.5, labelsize=16, labelrotation=25 )\n",
        "\n",
        "ax.legend(loc=2, fontsize=14);\n"
      ],
      "execution_count": 0,
      "outputs": []
    },
    {
      "cell_type": "code",
      "metadata": {
        "id": "PKYelWQVzdv-",
        "colab_type": "code",
        "colab": {}
      },
      "source": [
        "india = getcountry(infected, 'India')\n",
        "italy = getcountry(infected, 'Italy')\n",
        "us = getcountry(infected, 'United States')\n",
        "china = getcountry(infected, 'China')\n",
        "iran = getcountry(infected, 'Iran')\n",
        "germany = getcountry(infected, 'Germany')\n",
        "\n",
        "idx_ind = where( india.India > 0 )[0]\n",
        "idx_itl = where( italy.Italy > 0 )[0]\n",
        "idx_usa = where( us['United States'] > 0 )[0]\n",
        "idx_chn = where( china.China > 0 )[0]\n",
        "idx_irn = where( iran.Iran > 0 )[0]\n",
        "idx_grn = where( germany.Germany > 0 )[0]\n",
        "\n",
        "ls = '-.'\n",
        "ms = 4\n",
        "\n",
        "fig, ax = pl.subplots(1, 1, figsize=(10,8))\n",
        "\n",
        "ax.plot( arange(len(idx_ind)), india.India[idx_ind], 'gh', label='India', ms=ms, ls=ls )\n",
        "ax.plot( arange(len(idx_itl)), italy.Italy[idx_itl],  'r*', label='Italy', ms=ms, ls=ls )\n",
        "ax.plot( arange(len(idx_usa)), us['United States'][idx_usa], 'bd', label='USA', ms=ms, ls=ls )\n",
        "ax.plot( arange(len(idx_chn)), china.China[idx_chn],  'k*', label='China', ms=ms, ls=ls )\n",
        "ax.plot( arange(len(idx_irn)), iran.Iran[idx_irn], 'mH', label='Iran', ms=ms, ls=ls )\n",
        "ax.plot( arange(len(idx_grn)), germany.Germany[idx_grn], 'cH', label='Germany', ms=ms, ls=ls )\n",
        "\n",
        "ax.set_ylabel('Number of infected people', fontsize=20)\n",
        "ax.set_xlabel('Days since first case was reported in the country', fontsize=20)\n",
        "ax.set_title('Number of infected people since first day', fontsize=20)\n",
        "ax.set_yscale('log')\n",
        "\n",
        "ax.get_xaxis().set_tick_params( which='both', direction='out',\n",
        "labelbottom=True, bottom=True, width=.5, labelsize=16, labelrotation=0 )\n",
        "\n",
        "ax.get_yaxis().set_tick_params( which='both', direction='out',\n",
        "labelbottom=True, bottom=True, width=.5, labelsize=16, labelrotation=25 )\n",
        "\n",
        "ax.legend(loc=2, fontsize=14);\n"
      ],
      "execution_count": 0,
      "outputs": []
    },
    {
      "cell_type": "code",
      "metadata": {
        "id": "Tic0d1Y2yI6w",
        "colab_type": "code",
        "colab": {}
      },
      "source": [
        "# the rate of contagion by country over time\n",
        "def getcountry (df, country):\n",
        "  return df[df[\"Country/Region\"] == country].set_index(\"Country/Region\")[\n",
        "                  df.columns[3:N+3]].T.reset_index()\n",
        "\n",
        "fig, ax = pl.subplots(1, 1, figsize=(10,5))\n",
        "for country in deaths[\"Country/Region\"].values:\n",
        "\n",
        "  tmp = getcountry(deaths, country)#.set_index(\"Country/Region\")\n",
        "  tmp.plot(style=\"-.\", \n",
        "           ax=ax, label=None,\n",
        "           legend=False,\n",
        "           #label=country, \n",
        "           figsize=(10,5))\n",
        "pl.yscale(\"log\")\n",
        "pl.ylabel(\"number of deaths\")\n",
        "pl.xlabel(\"days since 01/22/2020\")\n",
        "pl.title(\"rate of contagion by country over time\");"
      ],
      "execution_count": 0,
      "outputs": []
    },
    {
      "cell_type": "code",
      "metadata": {
        "id": "5eH6LkC2yPML",
        "colab_type": "code",
        "colab": {}
      },
      "source": [
        "india = getcountry(deaths, 'India')\n",
        "italy = getcountry(deaths, 'Italy')\n",
        "us = getcountry(deaths, 'United States')\n",
        "china = getcountry(deaths, 'China')\n",
        "iran = getcountry(deaths, 'Iran')\n",
        "germany = getcountry(deaths, 'Germany')\n",
        "\n",
        "idx_ind = where( india.India > 0 )[0]\n",
        "idx_itl = where( italy.Italy > 0 )[0]\n",
        "idx_usa = where( us['United States'] > 0 )[0]\n",
        "idx_chn = where( china.China > 0 )[0]\n",
        "idx_irn = where( iran.Iran > 0 )[0]\n",
        "idx_grn = where( germany.Germany > 0 )[0]\n",
        "\n",
        "ls = '-.'\n",
        "ms = 4\n",
        "\n",
        "fig, ax = pl.subplots(1, 1, figsize=(10,8))\n",
        "\n",
        "ax.plot( arange(len(idx_ind)), india.India[idx_ind], 'gh', label='India', ms=ms, ls=ls )\n",
        "ax.plot( arange(len(idx_itl)), italy.Italy[idx_itl],  'r*', label='Italy', ms=ms, ls=ls )\n",
        "ax.plot( arange(len(idx_usa)), us['United States'][idx_usa], 'bd', label='USA', ms=ms, ls=ls )\n",
        "ax.plot( arange(len(idx_chn)), china.China[idx_chn],  'k*', label='China', ms=ms, ls=ls )\n",
        "ax.plot( arange(len(idx_irn)), iran.Iran[idx_irn], 'mH', label='Iran', ms=ms, ls=ls )\n",
        "ax.plot( arange(len(idx_grn)), germany.Germany[idx_grn], 'cH', label='Germany', ms=ms, ls=ls )\n",
        "\n",
        "ax.set_ylabel('Number of deaths', fontsize=20)\n",
        "ax.set_xlabel('Days since first death was reported in the country', fontsize=20)\n",
        "ax.set_title('Number of deaths since first day', fontsize=20)\n",
        "ax.set_yscale('log')\n",
        "\n",
        "ax.get_xaxis().set_tick_params( which='both', direction='out',\n",
        "labelbottom=True, bottom=True, width=.5, labelsize=16, labelrotation=0 )\n",
        "\n",
        "ax.get_yaxis().set_tick_params( which='both', direction='out',\n",
        "labelbottom=True, bottom=True, width=.5, labelsize=16, labelrotation=25 )\n",
        "\n",
        "ax.legend(loc=2, fontsize=14);\n"
      ],
      "execution_count": 0,
      "outputs": []
    },
    {
      "cell_type": "code",
      "metadata": {
        "id": "K7BKQdJjytP5",
        "colab_type": "code",
        "colab": {}
      },
      "source": [
        "india = getcountry(deaths, 'India')\n",
        "italy = getcountry(deaths, 'Italy')\n",
        "us = getcountry(deaths, 'United States')\n",
        "china = getcountry(deaths, 'China')\n",
        "iran = getcountry(deaths, 'Iran')\n",
        "germany = getcountry(deaths, 'Germany')\n",
        "\n",
        "idx_ind = where( india.India >= 0 )[0]\n",
        "idx_itl = where( italy.Italy >= 0 )[0]\n",
        "idx_usa = where( us['United States'] >= 0 )[0]\n",
        "idx_chn = where( china.China >= 0 )[0]\n",
        "idx_irn = where( iran.Iran >= 0 )[0]\n",
        "idx_grn = where( germany.Germany >= 0 )[0]\n",
        "\n",
        "ls = '-.'\n",
        "ms = 4\n",
        "\n",
        "fig, ax = pl.subplots(1, 1, figsize=(10,8))\n",
        "\n",
        "ax.plot( arange(len(idx_ind)), india.India[idx_ind], 'gh', label='India', ms=ms, ls=ls )\n",
        "ax.plot( arange(len(idx_itl)), italy.Italy[idx_itl],  'r*', label='Italy', ms=ms, ls=ls )\n",
        "ax.plot( arange(len(idx_usa)), us['United States'][idx_usa], 'bd', label='USA', ms=ms, ls=ls )\n",
        "ax.plot( arange(len(idx_chn)), china.China[idx_chn],  'k*', label='China', ms=ms, ls=ls )\n",
        "ax.plot( arange(len(idx_irn)), iran.Iran[idx_irn], 'mH', label='Iran', ms=ms, ls=ls )\n",
        "ax.plot( arange(len(idx_grn)), germany.Germany[idx_grn], 'cH', label='Germany', ms=ms, ls=ls )\n",
        "\n",
        "ax.set_ylabel('Number of deaths', fontsize=20)\n",
        "ax.set_xlabel('Number of days since 2020/01/22', fontsize=20)\n",
        "ax.set_title('Number of deaths', fontsize=20)\n",
        "ax.set_yscale('log')\n",
        "\n",
        "ax.get_xaxis().set_tick_params( which='both', direction='out',\n",
        "labelbottom=True, bottom=True, width=.5, labelsize=16, labelrotation=0 )\n",
        "\n",
        "ax.get_yaxis().set_tick_params( which='both', direction='out',\n",
        "labelbottom=True, bottom=True, width=.5, labelsize=16, labelrotation=25 )\n",
        "\n",
        "ax.legend(loc=2, fontsize=14);"
      ],
      "execution_count": 0,
      "outputs": []
    },
    {
      "cell_type": "code",
      "metadata": {
        "id": "C0EQ_vaTy-7S",
        "colab_type": "code",
        "colab": {}
      },
      "source": [
        ""
      ],
      "execution_count": 0,
      "outputs": []
    }
  ]
}